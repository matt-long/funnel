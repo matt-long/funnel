{
 "cells": [
  {
   "cell_type": "code",
   "execution_count": 1,
   "metadata": {},
   "outputs": [
    {
     "name": "stderr",
     "output_type": "stream",
     "text": [
      "Cannot write to data cache '/glade/p/cesmdata/cseg'. Will not be able to download remote data files. Use environment variable 'CESMDATAROOT' to specify another directory.\n"
     ]
    }
   ],
   "source": [
    "import numpy as np\n",
    "import xarray as xr\n",
    "\n",
    "import matplotlib.pyplot as plt\n",
    "\n",
    "import pop_tools\n",
    "\n",
    "import util"
   ]
  },
  {
   "cell_type": "markdown",
   "metadata": {},
   "source": [
    "## Notebook parameters"
   ]
  },
  {
   "cell_type": "code",
   "execution_count": 2,
   "metadata": {},
   "outputs": [],
   "source": [
    "mask_name = 'krill-ToE'\n",
    "grid_name = 'POP_gx1v6'"
   ]
  },
  {
   "cell_type": "markdown",
   "metadata": {},
   "source": [
    "## Check for chached zarr_name"
   ]
  },
  {
   "cell_type": "code",
   "execution_count": 3,
   "metadata": {},
   "outputs": [],
   "source": [
    "# TODO: can the jupyter notebook return here if `zarr_name` exists?\n",
    "zarr_name = f'./data/region-mask-{grid_name}-{mask_name}.zarr'"
   ]
  },
  {
   "cell_type": "markdown",
   "metadata": {},
   "source": [
    "## Construct a region mask\n",
    "\n",
    "Get the model grid."
   ]
  },
  {
   "cell_type": "code",
   "execution_count": 4,
   "metadata": {},
   "outputs": [
    {
     "data": {
      "text/html": [
       "<pre>&lt;xarray.Dataset&gt;\n",
       "Dimensions:      (nlat: 384, nlon: 320, z_t: 60, z_w: 60, z_w_bot: 60)\n",
       "Coordinates:\n",
       "  * z_t          (z_t) float64 500.0 1.5e+03 2.5e+03 ... 5.125e+05 5.375e+05\n",
       "  * z_w          (z_w) float64 0.0 1e+03 2e+03 3e+03 ... 4.75e+05 5e+05 5.25e+05\n",
       "  * z_w_bot      (z_w_bot) float64 1e+03 2e+03 3e+03 ... 5e+05 5.25e+05 5.5e+05\n",
       "Dimensions without coordinates: nlat, nlon\n",
       "Data variables:\n",
       "    TLAT         (nlat, nlon) float64 -79.22 -79.22 -79.22 ... 72.2 72.19 72.19\n",
       "    TLONG        (nlat, nlon) float64 320.6 321.7 322.8 ... 318.9 319.4 319.8\n",
       "    ULAT         (nlat, nlon) float64 -78.95 -78.95 -78.95 ... 72.42 72.41 72.41\n",
       "    ULONG        (nlat, nlon) float64 321.1 322.3 323.4 ... 319.2 319.6 320.0\n",
       "    DXT          (nlat, nlon) float64 1.894e+06 1.893e+06 ... 1.473e+06\n",
       "    DYT          (nlat, nlon) float64 5.94e+06 5.94e+06 ... 5.046e+06 5.046e+06\n",
       "    DXU          (nlat, nlon) float64 2.397e+06 2.397e+06 ... 1.391e+06\n",
       "    DYU          (nlat, nlon) float64 5.94e+06 5.94e+06 ... 5.493e+06 5.493e+06\n",
       "    TAREA        (nlat, nlon) float64 1.125e+13 1.125e+13 ... 7.432e+12\n",
       "    UAREA        (nlat, nlon) float64 1.423e+13 1.423e+13 ... 7.639e+12\n",
       "    KMT          (nlat, nlon) int32 0 0 0 0 0 0 0 0 0 0 ... 0 0 0 0 0 0 0 0 0 0\n",
       "    REGION_MASK  (nlat, nlon) int32 0 0 0 0 0 0 0 0 0 0 ... 0 0 0 0 0 0 0 0 0 0\n",
       "    dz           (z_t) float64 1e+03 1e+03 1e+03 ... 2.499e+04 2.5e+04 2.5e+04\n",
       "Attributes:\n",
       "    lateral_dims:         [384, 320]\n",
       "    vertical_dims:        60\n",
       "    vert_grid_file:       gx1v7_vert_grid\n",
       "    horiz_grid_fname:     inputdata/ocn/pop/gx1v6/grid/horiz_grid_20010402.ie...\n",
       "    topography_fname:     inputdata/ocn/pop/gx1v6/grid/topography_20090204.ie...\n",
       "    region_mask_fname:    inputdata/ocn/pop/gx1v6/grid/region_mask_20090205.i...\n",
       "    type:                 dipole\n",
       "    region_mask_regions:  {&#x27;Caspian Sea&#x27;: -14, &#x27;Black Sea&#x27;: -13, &#x27;Baltic Sea&#x27;...\n",
       "    title:                POP_gx1v6 grid</pre>"
      ],
      "text/plain": [
       "<xarray.Dataset>\n",
       "Dimensions:      (nlat: 384, nlon: 320, z_t: 60, z_w: 60, z_w_bot: 60)\n",
       "Coordinates:\n",
       "  * z_t          (z_t) float64 500.0 1.5e+03 2.5e+03 ... 5.125e+05 5.375e+05\n",
       "  * z_w          (z_w) float64 0.0 1e+03 2e+03 3e+03 ... 4.75e+05 5e+05 5.25e+05\n",
       "  * z_w_bot      (z_w_bot) float64 1e+03 2e+03 3e+03 ... 5e+05 5.25e+05 5.5e+05\n",
       "Dimensions without coordinates: nlat, nlon\n",
       "Data variables:\n",
       "    TLAT         (nlat, nlon) float64 -79.22 -79.22 -79.22 ... 72.2 72.19 72.19\n",
       "    TLONG        (nlat, nlon) float64 320.6 321.7 322.8 ... 318.9 319.4 319.8\n",
       "    ULAT         (nlat, nlon) float64 -78.95 -78.95 -78.95 ... 72.42 72.41 72.41\n",
       "    ULONG        (nlat, nlon) float64 321.1 322.3 323.4 ... 319.2 319.6 320.0\n",
       "    DXT          (nlat, nlon) float64 1.894e+06 1.893e+06 ... 1.473e+06\n",
       "    DYT          (nlat, nlon) float64 5.94e+06 5.94e+06 ... 5.046e+06 5.046e+06\n",
       "    DXU          (nlat, nlon) float64 2.397e+06 2.397e+06 ... 1.391e+06\n",
       "    DYU          (nlat, nlon) float64 5.94e+06 5.94e+06 ... 5.493e+06 5.493e+06\n",
       "    TAREA        (nlat, nlon) float64 1.125e+13 1.125e+13 ... 7.432e+12\n",
       "    UAREA        (nlat, nlon) float64 1.423e+13 1.423e+13 ... 7.639e+12\n",
       "    KMT          (nlat, nlon) int32 0 0 0 0 0 0 0 0 0 0 ... 0 0 0 0 0 0 0 0 0 0\n",
       "    REGION_MASK  (nlat, nlon) int32 0 0 0 0 0 0 0 0 0 0 ... 0 0 0 0 0 0 0 0 0 0\n",
       "    dz           (z_t) float64 1e+03 1e+03 1e+03 ... 2.499e+04 2.5e+04 2.5e+04\n",
       "Attributes:\n",
       "    lateral_dims:         [384, 320]\n",
       "    vertical_dims:        60\n",
       "    vert_grid_file:       gx1v7_vert_grid\n",
       "    horiz_grid_fname:     inputdata/ocn/pop/gx1v6/grid/horiz_grid_20010402.ie...\n",
       "    topography_fname:     inputdata/ocn/pop/gx1v6/grid/topography_20090204.ie...\n",
       "    region_mask_fname:    inputdata/ocn/pop/gx1v6/grid/region_mask_20090205.i...\n",
       "    type:                 dipole\n",
       "    region_mask_regions:  {'Caspian Sea': -14, 'Black Sea': -13, 'Baltic Sea'...\n",
       "    title:                POP_gx1v6 grid"
      ]
     },
     "execution_count": 4,
     "metadata": {},
     "output_type": "execute_result"
    }
   ],
   "source": [
    "grid = pop_tools.get_grid(grid_name)\n",
    "grid"
   ]
  },
  {
   "cell_type": "code",
   "execution_count": 5,
   "metadata": {},
   "outputs": [
    {
     "data": {
      "text/plain": [
       "[('Southern Ocean',\n",
       "  <xarray.DataArray 'TLAT' (nlat: 384, nlon: 320)>\n",
       "  array([[ True,  True,  True, ...,  True,  True,  True],\n",
       "         [ True,  True,  True, ...,  True,  True,  True],\n",
       "         [ True,  True,  True, ...,  True,  True,  True],\n",
       "         ...,\n",
       "         [False, False, False, ..., False, False, False],\n",
       "         [False, False, False, ..., False, False, False],\n",
       "         [False, False, False, ..., False, False, False]])\n",
       "  Dimensions without coordinates: nlat, nlon),\n",
       " ('WAP & Atlantic',\n",
       "  <xarray.DataArray (nlat: 384, nlon: 320)>\n",
       "  array([[ True,  True,  True, ...,  True,  True,  True],\n",
       "         [ True,  True,  True, ...,  True,  True,  True],\n",
       "         [ True,  True,  True, ...,  True,  True,  True],\n",
       "         ...,\n",
       "         [False, False, False, ..., False, False, False],\n",
       "         [False, False, False, ..., False, False, False],\n",
       "         [False, False, False, ..., False, False, False]])\n",
       "  Dimensions without coordinates: nlat, nlon),\n",
       " ('Indo-Pacific',\n",
       "  <xarray.DataArray (nlat: 384, nlon: 320)>\n",
       "  array([[False, False, False, ..., False, False, False],\n",
       "         [False, False, False, ..., False, False, False],\n",
       "         [False, False, False, ..., False, False, False],\n",
       "         ...,\n",
       "         [False, False, False, ..., False, False, False],\n",
       "         [False, False, False, ..., False, False, False],\n",
       "         [False, False, False, ..., False, False, False]])\n",
       "  Dimensions without coordinates: nlat, nlon)]"
      ]
     },
     "execution_count": 5,
     "metadata": {},
     "output_type": "execute_result"
    }
   ],
   "source": [
    "defined_mask_logic = {\n",
    "    'krill-ToE': [\n",
    "        ('Southern Ocean', (grid.TLAT <= -45)), \n",
    "        ('WAP & Atlantic', (grid.TLAT <= -45) & ((grid.TLONG > 260) | (grid.TLONG < 25))),\n",
    "        ('Indo-Pacific', (grid.TLAT <= -45) & ~((grid.TLONG > 260) | (grid.TLONG < 25))),    \n",
    "    ]\n",
    "}\n",
    "\n",
    "if mask_name in defined_mask_logic:\n",
    "    mask_logic = defined_mask_logic[mask_name]\n",
    "\n",
    "else:\n",
    "    raise ValueError(f'unknown mask: {mask_name}')\n",
    "\n",
    "mask_logic    "
   ]
  },
  {
   "cell_type": "code",
   "execution_count": 6,
   "metadata": {},
   "outputs": [
    {
     "data": {
      "text/html": [
       "<pre>&lt;xarray.DataArray &#x27;masked_area&#x27; (region: 3, nlat: 384, nlon: 320)&gt;\n",
       "array([[[           nan,            nan,            nan, ...,\n",
       "                    nan,            nan,            nan],\n",
       "        [           nan,            nan,            nan, ...,\n",
       "                    nan,            nan,            nan],\n",
       "        [1.52530781e+13, 1.52530781e+13, 1.52530781e+13, ...,\n",
       "                    nan,            nan,            nan],\n",
       "        ...,\n",
       "        [           nan,            nan,            nan, ...,\n",
       "                    nan,            nan,            nan],\n",
       "        [           nan,            nan,            nan, ...,\n",
       "                    nan,            nan,            nan],\n",
       "        [           nan,            nan,            nan, ...,\n",
       "                    nan,            nan,            nan]],\n",
       "\n",
       "       [[           nan,            nan,            nan, ...,\n",
       "                    nan,            nan,            nan],\n",
       "        [           nan,            nan,            nan, ...,\n",
       "                    nan,            nan,            nan],\n",
       "        [1.52530781e+13, 1.52530781e+13, 1.52530781e+13, ...,\n",
       "                    nan,            nan,            nan],\n",
       "        ...,\n",
       "        [           nan,            nan,            nan, ...,\n",
       "                    nan,            nan,            nan],\n",
       "        [           nan,            nan,            nan, ...,\n",
       "                    nan,            nan,            nan],\n",
       "        [           nan,            nan,            nan, ...,\n",
       "                    nan,            nan,            nan]],\n",
       "\n",
       "       [[           nan,            nan,            nan, ...,\n",
       "                    nan,            nan,            nan],\n",
       "        [           nan,            nan,            nan, ...,\n",
       "                    nan,            nan,            nan],\n",
       "        [0.00000000e+00, 0.00000000e+00, 0.00000000e+00, ...,\n",
       "                    nan,            nan,            nan],\n",
       "        ...,\n",
       "        [           nan,            nan,            nan, ...,\n",
       "                    nan,            nan,            nan],\n",
       "        [           nan,            nan,            nan, ...,\n",
       "                    nan,            nan,            nan],\n",
       "        [           nan,            nan,            nan, ...,\n",
       "                    nan,            nan,            nan]]])\n",
       "Coordinates:\n",
       "  * region   (region) &lt;U14 &#x27;Southern Ocean&#x27; &#x27;WAP &amp; Atlantic&#x27; &#x27;Indo-Pacific&#x27;\n",
       "Dimensions without coordinates: nlat, nlon</pre>"
      ],
      "text/plain": [
       "<xarray.DataArray 'masked_area' (region: 3, nlat: 384, nlon: 320)>\n",
       "array([[[           nan,            nan,            nan, ...,\n",
       "                    nan,            nan,            nan],\n",
       "        [           nan,            nan,            nan, ...,\n",
       "                    nan,            nan,            nan],\n",
       "        [1.52530781e+13, 1.52530781e+13, 1.52530781e+13, ...,\n",
       "                    nan,            nan,            nan],\n",
       "        ...,\n",
       "        [           nan,            nan,            nan, ...,\n",
       "                    nan,            nan,            nan],\n",
       "        [           nan,            nan,            nan, ...,\n",
       "                    nan,            nan,            nan],\n",
       "        [           nan,            nan,            nan, ...,\n",
       "                    nan,            nan,            nan]],\n",
       "\n",
       "       [[           nan,            nan,            nan, ...,\n",
       "                    nan,            nan,            nan],\n",
       "        [           nan,            nan,            nan, ...,\n",
       "                    nan,            nan,            nan],\n",
       "        [1.52530781e+13, 1.52530781e+13, 1.52530781e+13, ...,\n",
       "                    nan,            nan,            nan],\n",
       "        ...,\n",
       "        [           nan,            nan,            nan, ...,\n",
       "                    nan,            nan,            nan],\n",
       "        [           nan,            nan,            nan, ...,\n",
       "                    nan,            nan,            nan],\n",
       "        [           nan,            nan,            nan, ...,\n",
       "                    nan,            nan,            nan]],\n",
       "\n",
       "       [[           nan,            nan,            nan, ...,\n",
       "                    nan,            nan,            nan],\n",
       "        [           nan,            nan,            nan, ...,\n",
       "                    nan,            nan,            nan],\n",
       "        [0.00000000e+00, 0.00000000e+00, 0.00000000e+00, ...,\n",
       "                    nan,            nan,            nan],\n",
       "        ...,\n",
       "        [           nan,            nan,            nan, ...,\n",
       "                    nan,            nan,            nan],\n",
       "        [           nan,            nan,            nan, ...,\n",
       "                    nan,            nan,            nan],\n",
       "        [           nan,            nan,            nan, ...,\n",
       "                    nan,            nan,            nan]]])\n",
       "Coordinates:\n",
       "  * region   (region) <U14 'Southern Ocean' 'WAP & Atlantic' 'Indo-Pacific'\n",
       "Dimensions without coordinates: nlat, nlon"
      ]
     },
     "execution_count": 6,
     "metadata": {},
     "output_type": "execute_result"
    }
   ],
   "source": [
    "# define a list of tuples describing our regions: \n",
    "#  (region_name, logical_array)\n",
    "\n",
    "# create a region coordinate with the region names\n",
    "region = xr.DataArray(\n",
    "    [t[0] for t in mask_logic], \n",
    "    dims=('region'), \n",
    ")\n",
    "nregion = len(region)\n",
    "\n",
    "\n",
    "# create a masked array array\n",
    "masked_area = xr.DataArray(\n",
    "    np.zeros((nregion,)+grid.TLAT.shape), \n",
    "    dims=('region',)+grid.TLAT.dims,\n",
    "    coords={'region': region},\n",
    "    name='masked_area',\n",
    ")\n",
    "for i, name_logic in enumerate(mask_logic):\n",
    "    masked_area.data[i, :, :] = grid.TAREA.where(name_logic[1]).fillna(0.).where(grid.KMT>0)\n",
    "\n",
    "masked_area    "
   ]
  },
  {
   "cell_type": "markdown",
   "metadata": {},
   "source": [
    "Make a quick-look plot of the regions."
   ]
  },
  {
   "cell_type": "code",
   "execution_count": 7,
   "metadata": {},
   "outputs": [
    {
     "data": {
      "image/png": "[encoded data removed]",
      "text/plain": [
       "<Figure size 288x648 with 6 Axes>"
      ]
     },
     "metadata": {
      "needs_background": "light"
     },
     "output_type": "display_data"
    }
   ],
   "source": [
    "ncol = int(np.sqrt(nregion))\n",
    "nrow = int(nregion/ncol) + min(1, nregion%ncol)\n",
    "\n",
    "fig, ax = plt.subplots(nrow, ncol, figsize=(4*ncol, 3*nrow),\n",
    "                       constrained_layout=True)\n",
    "\n",
    "for i, region in enumerate(masked_area.region.values):\n",
    "    plt.axes(ax.ravel()[i])\n",
    "    masked_area.sel(region=region).plot()    "
   ]
  },
  {
   "cell_type": "markdown",
   "metadata": {},
   "source": [
    "Check that the sum across the region dimension is as expected. Land should have the value `nregion` and elsewhere the coverage should reflect the number of regions the cover each cell, e.g., if there is no overlap, the plot should show \"1\"."
   ]
  },
  {
   "cell_type": "code",
   "execution_count": 8,
   "metadata": {},
   "outputs": [
    {
     "data": {
      "image/png": "[encoded data removed]",
      "text/plain": [
       "<Figure size 432x288 with 2 Axes>"
      ]
     },
     "metadata": {
      "needs_background": "light"
     },
     "output_type": "display_data"
    }
   ],
   "source": [
    "masked_area.where(masked_area==0).fillna(1.).sum('region').plot();"
   ]
  },
  {
   "cell_type": "code",
   "execution_count": 9,
   "metadata": {},
   "outputs": [
    {
     "name": "stdout",
     "output_type": "stream",
     "text": [
      "------------------------------\n",
      "Writing /glade/u/home/mclong/codes/funnel/notebooks/data/region-mask-POP_gx1v6-krill-ToE.zarr\n",
      "<xarray.Dataset>\n",
      "Dimensions:      (nlat: 384, nlon: 320, region: 3)\n",
      "Coordinates:\n",
      "  * region       (region) <U14 'Southern Ocean' 'WAP & Atlantic' 'Indo-Pacific'\n",
      "Dimensions without coordinates: nlat, nlon\n",
      "Data variables:\n",
      "    masked_area  (region, nlat, nlon) float64 nan nan nan nan ... nan nan nan\n",
      "\n"
     ]
    }
   ],
   "source": [
    "util.write_ds_out(masked_area.to_dataset(), zarr_name)"
   ]
  }
 ],
 "metadata": {
  "kernelspec": {
   "display_name": "Python [conda env:miniconda3-krill]",
   "language": "python",
   "name": "conda-env-miniconda3-krill-py"
  },
  "language_info": {
   "codemirror_mode": {
    "name": "ipython",
    "version": 3
   },
   "file_extension": ".py",
   "mimetype": "text/x-python",
   "name": "python",
   "nbconvert_exporter": "python",
   "pygments_lexer": "ipython3",
   "version": "3.7.6"
  }
 },
 "nbformat": 4,
 "nbformat_minor": 4
}
