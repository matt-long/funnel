{
 "cells": [
  {
   "cell_type": "code",
   "execution_count": 1,
   "metadata": {},
   "outputs": [],
   "source": [
    "import xarray as xr\n",
    "import matplotlib.pyplot as plt"
   ]
  },
  {
   "cell_type": "markdown",
   "metadata": {},
   "source": [
    "## Get CESM-LE dataset"
   ]
  },
  {
   "cell_type": "code",
   "execution_count": 1,
   "metadata": {},
   "outputs": [],
   "source": [
    "variables = ['SST', 'Chl_surf', 'IFRAC', 'KGP']\n",
    "experiments = ['20C', 'RCP85']\n",
    "stream = 'pop.h'\n",
    "component = 'ocn'\n",
    "require_ocn_bgc = True\n",
    "mask_name = 'krill-ToE'\n",
    "\n",
    "# call _cesm-le-data.ipynb\n",
    "# TODO: return list of generated datasets"
   ]
  },
  {
   "cell_type": "markdown",
   "metadata": {},
   "source": [
    "## Read dataset"
   ]
  },
  {
   "cell_type": "code",
   "execution_count": null,
   "metadata": {},
   "outputs": [],
   "source": [
    "ds_djf_epoch = xr.open_zarr('data/cesm-le-fields-djf-epoch-mean.zarr')\n",
    "ds_djf_epoch"
   ]
  },
  {
   "cell_type": "markdown",
   "metadata": {},
   "source": [
    "## Produce plots\n",
    "\n",
    "This is where we might produce interactive visualizations...publication quality plots."
   ]
  },
  {
   "cell_type": "code",
   "execution_count": null,
   "metadata": {},
   "outputs": [],
   "source": [
    "nvar = len(ds_djf_epoch_diff.data_vars)\n",
    "ncol = int(np.sqrt(nvar))\n",
    "nrow = int(nvar/ncol) + min(1, nvar%ncol)\n",
    "\n",
    "fig, ax = plt.subplots(nrow, ncol, figsize=(4*ncol, 3*nrow),\n",
    "                       constrained_layout=True)\n",
    "\n",
    "for i, v in enumerate(ds_djf_epoch_diff.data_vars):\n",
    "    plt.axes(ax.ravel()[i])\n",
    "\n",
    "    with xr.set_options(keep_attrs=True):             \n",
    "        var = ds_djf_epoch_diff[v].mean('member_id')\n",
    "    if 'length' in var.dims:\n",
    "        var = var.sel(length=40.)            \n",
    "    var.plot()\n",
    "    plt.title(v)\n",
    "\n",
    "epoch = ds_djf_epoch.epoch.data\n",
    "plt.suptitle(f'({epoch[1]}) - ({epoch[0]})', fontsize=16, fontweight='bold');"
   ]
  }
 ],
 "metadata": {
  "kernelspec": {
   "display_name": "Python [conda env:miniconda3-krill]",
   "language": "python",
   "name": "conda-env-miniconda3-krill-py"
  },
  "language_info": {
   "codemirror_mode": {
    "name": "ipython",
    "version": 3
   },
   "file_extension": ".py",
   "mimetype": "text/x-python",
   "name": "python",
   "nbconvert_exporter": "python",
   "pygments_lexer": "ipython3",
   "version": "3.7.6"
  }
 },
 "nbformat": 4,
 "nbformat_minor": 4
}
